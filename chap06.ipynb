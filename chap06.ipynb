{
 "cells": [
  {
   "cell_type": "markdown",
   "metadata": {},
   "source": [
    "# Programmation Python  pour les mathématiques"
   ]
  },
  {
   "cell_type": "markdown",
   "metadata": {},
   "source": [
    "**Julien Guillod**, [Sorbonne Université](http://www.sorbonne-universite.fr/),\n",
    "Licence <a href=\"https://creativecommons.org/licenses/by-nc-nd/4.0/\">CC BY-NC-ND</a>\n",
    "\n",
    "L'entier des chapitres est disponible au format\n",
    "[HTML](https://python.guillod.org/) et [PDF](https://python.guillod.org/python.pdf).\n",
    "Ce notebook peut également être exécuté sur [GESIS](https://notebooks.gesis.org/binder/v2/gh/guillod/python/master?urlpath=lab/tree/chap06.ipynb)."
   ]
  },
  {
   "cell_type": "markdown",
   "metadata": {},
   "source": [
    "# 6 Algèbre"
   ]
  },
  {
   "cell_type": "markdown",
   "metadata": {},
   "source": [
    "<div id=\"ch:algebre\"></div>\n",
    "\n",
    "Tout d'abord une méthode de résolution de système linéaire par un algorithme direct est étudiée, puis une méthode itérative sera utilisée pour déterminer le vecteur propre associé à la plus grande valeur propre d'une matrice. Enfin les groupes générés par un ensemble de permutations seront étudiés.\n",
    "\n",
    "**Concepts abordés:**\n",
    "\n",
    "* méthode de résolution directe (décomposition LU)\n",
    "\n",
    "* algorithme *in place*\n",
    "\n",
    "* méthode itérative (puissance itérée)\n",
    "\n",
    "* groupes de permutations\n",
    "\n",
    "* orbite et stabilisateur"
   ]
  },
  {
   "cell_type": "markdown",
   "metadata": {},
   "source": [
    "# Exercice 6.1: Décomposition LU"
   ]
  },
  {
   "cell_type": "markdown",
   "metadata": {},
   "source": [
    "<div id=\"exer:algebre-LU\"></div>\n",
    "\n",
    "La décomposition LU consiste à décomposer une matrice $A$ de taille $n \\times n$ sous la forme $A=LU$ où $L$ est une matrice triangulaire inférieure avec des 1 sur la diagonale et $U$ une matrice triangulaire supérieure. Une fois la décomposition $A=LU$ d'une matrice connue, il est alors très facile de résoudre le problème linéaire $A\\boldsymbol{x} = \\boldsymbol{b}$ en résolvant d'abord $L\\boldsymbol{y} = \\boldsymbol{b}$ puis $U\\boldsymbol{x} = \\boldsymbol{y}$. L'avantage de la décomposition LU sur l'algorithme de Gauss, par exemple, est qu'une fois la décomposition LU connue, il est possible de résoudre le système linéaire rapidement avec des seconds membres différents.\n",
    "\n",
    "Vu que $l_{ik}=0$ si $k>i$, nous avons:"
   ]
  },
  {
   "cell_type": "markdown",
   "metadata": {},
   "source": [
    "$$\n",
    "a_{ij} = \\sum_{k=1}^n l_{ik}u_{kj} = l_{ii}u_{ij} + \\sum_{k=1}^{i-1} l_{ik}u_{kj} \\,,\n",
    "$$"
   ]
  },
  {
   "cell_type": "markdown",
   "metadata": {},
   "source": [
    "et donc comme $l_{ii}=1$:"
   ]
  },
  {
   "cell_type": "markdown",
   "metadata": {},
   "source": [
    "$$\n",
    "u_{ij} = a_{ij} - \\sum_{k=1}^{i-1} l_{ik}u_{kj} \\,.\n",
    "$$"
   ]
  },
  {
   "cell_type": "markdown",
   "metadata": {},
   "source": [
    "D'un autre côté, vu que $u_{kj}=0$ si $k>j$, alors:"
   ]
  },
  {
   "cell_type": "markdown",
   "metadata": {},
   "source": [
    "$$\n",
    "a_{ij} = \\sum_{k=1}^n l_{ik}u_{kj} = l_{ij}u_{jj} + \\sum_{k=1}^{j-1} l_{ik}u_{kj} \\,,\n",
    "$$"
   ]
  },
  {
   "cell_type": "markdown",
   "metadata": {},
   "source": [
    "et donc si $u_{jj}\\neq0$:"
   ]
  },
  {
   "cell_type": "markdown",
   "metadata": {},
   "source": [
    "$$\n",
    "l_{ij} = \\frac{1}{u_{jj}} \\left( a_{ij} - \\sum_{k=1}^{j-1} l_{ik}u_{kj} \\right) \\,.\n",
    "$$"
   ]
  },
  {
   "cell_type": "markdown",
   "metadata": {},
   "source": [
    "Ainsi, si les $(i-1)$ premières lignes de $U$ et les $(i-1)$ premières colonnes de $L$ sont connues, il est possible de déterminer la $i$-ème ligne de $U$ par:"
   ]
  },
  {
   "cell_type": "markdown",
   "metadata": {},
   "source": [
    "$$\n",
    "u_{ij} = a_{ij} - \\sum_{k=1}^{i-1} l_{ik}u_{kj} \\,, \\quad j \\geq i \\,,\n",
    "$$"
   ]
  },
  {
   "cell_type": "markdown",
   "metadata": {},
   "source": [
    "puis la $i$-ème colonne de $L$ par:"
   ]
  },
  {
   "cell_type": "markdown",
   "metadata": {},
   "source": [
    "$$\n",
    "l_{ji} = \\frac{1}{u_{ii}} \\left( a_{ji} - \\sum_{k=1}^{i-1} l_{jk}u_{ki} \\right) \\,, \\quad j > i\\  \\,.\n",
    "$$"
   ]
  },
  {
   "cell_type": "markdown",
   "metadata": {},
   "source": [
    "Pour que la décomposition LU d'une matrice $A$ soit possible il faut que les $u_{ii}$ ne soient jamais nuls. Cela est effectivement le cas lorsque la matrice $A$ et toutes ses sous-matrices principales sont inversibles.\n",
    "\n",
    "**a)**\n",
    "Écrire une fonction `LU(A)` qui retourne le résultat de la décomposition LU d'une matrice."
   ]
  },
  {
   "cell_type": "markdown",
   "metadata": {},
   "source": [
    "**b)**\n",
    "Donnée la décomposition LU d'une matrice $A$, écrire une fonction `solve(L,U,b)` qui résout le système linéaire $A\\boldsymbol{x} =  \\boldsymbol{b}$."
   ]
  },
  {
   "cell_type": "markdown",
   "metadata": {},
   "source": [
    "**c)**\n",
    "Écrire une fonction `LU_inplace(A)` qui ne crée pas de nouveaux tableaux pour $L$ et $U$ mais modifie $A$ de sorte que sa partie triangulaire inférieure (sans la diagonale) corresponde à $L$ et sa partie triangulaire supérieure (avec la diagonale) corresponde à $U$. Faire également une version `solve_inplace` prenant en entrée la sortie de `LU_inplace` et retournant la solution $\\boldsymbol{x}$, sans utiliser de nouveaux tableaux."
   ]
  },
  {
   "cell_type": "markdown",
   "metadata": {},
   "source": [
    "**d)**\n",
    "En utilisant la décomposition LU de la matrice $A$, écrire une fonction `det(A)` qui retourne son déterminant."
   ]
  },
  {
   "cell_type": "markdown",
   "metadata": {},
   "source": [
    "# Exercice 6.2: Méthode de la puissance itérée"
   ]
  },
  {
   "cell_type": "markdown",
   "metadata": {},
   "source": [
    "<div id=\"exer:algebre-power\"></div>\n",
    "\n",
    "Le but de cet exercice est de déterminer le vecteur propre d'une matrice associé à la valeur propre de plus grand module, en supposant que celle-ci est unique. Étant donné une matrice réelle $A$ de taille $n\\times n$ et un vecteur $\\boldsymbol{x}_0\\in\\mathbb{R}^n$, la suite de vecteurs $(\\boldsymbol{x}_k)_ {k\\in\\mathbb{N}}$ est définie par:"
   ]
  },
  {
   "cell_type": "markdown",
   "metadata": {},
   "source": [
    "$$\n",
    "\\boldsymbol{x}_{k+1} = \\frac{A\\boldsymbol{x}_k}{\\Vert A\\boldsymbol{x}_k\\Vert} \\,.\n",
    "$$"
   ]
  },
  {
   "cell_type": "markdown",
   "metadata": {},
   "source": [
    "En supposant par exemple que la matrice $A$ soit diagonalisable, alors il est possible de montrer que la suite $(\\boldsymbol{x}_k)_ {k\\in\\mathbb{N}}$ converge à un signe près vers le vecteur propre associé à la plus grande valeur propre de $A$ en valeur absolue.\n",
    "\n",
    "**Indication:**\n",
    "La première étape est de remarquer que:"
   ]
  },
  {
   "cell_type": "markdown",
   "metadata": {},
   "source": [
    "$$\n",
    "\\boldsymbol{x}_k = \\frac{A^2 \\boldsymbol{x}_{k-2}}{\\Vert A^2 \\boldsymbol{x}_{k-2}\\Vert} = \\dots = \\frac{A^k \\boldsymbol{x}_0}{\\Vert A^k \\boldsymbol{x}_0\\Vert} \\,.\n",
    "$$"
   ]
  },
  {
   "cell_type": "markdown",
   "metadata": {},
   "source": [
    "Vu que $A$ est diagonalisable, soit ($\\boldsymbol{v}_1, \\boldsymbol{v}_2, \\dots, \\boldsymbol{v}_n)$ une base de vecteurs propres de $A$ associés aux valeurs propres $\\lambda_1, \\lambda_2, \\dots, \\lambda_n$. Sans perte de généralité, on suppose que $\\lambda_1$ est la valeur propre de plus grand module, c'est-à-dire $|\\lambda_1|>\\max(|\\lambda_2|,|\\lambda_3|,\\dots,|\\lambda_n|)$. À noter que cela implique que $\\lambda_1$ est réelle. Le vecteur $\\boldsymbol{x}_0$ se décompose dans la base:"
   ]
  },
  {
   "cell_type": "markdown",
   "metadata": {},
   "source": [
    "$$\n",
    "\\boldsymbol{x}_0 = \\sum_{i=1}^n c_i \\boldsymbol{v}_i \\,,\n",
    "$$"
   ]
  },
  {
   "cell_type": "markdown",
   "metadata": {},
   "source": [
    "ainsi en supposant que $c_1\\neq0$:"
   ]
  },
  {
   "cell_type": "markdown",
   "metadata": {},
   "source": [
    "$$\n",
    "A^k \\boldsymbol{x}_0 = \\sum_{i=1}^n c_i \\lambda_i^k \\boldsymbol{v}_i\n",
    "= c_1 \\lambda_1^k \\left(\\boldsymbol{v}_1 + \\sum_{i=2}^n \\frac{c_i}{c_1} \\left(\\frac{\\lambda_i}{\\lambda_1}\\right)^k \\boldsymbol{v}_i \\right) .\n",
    "$$"
   ]
  },
  {
   "cell_type": "markdown",
   "metadata": {},
   "source": [
    "Vu que $|\\lambda_1| > |\\lambda_i|$ pour $i\\geq2$, alors:"
   ]
  },
  {
   "cell_type": "markdown",
   "metadata": {},
   "source": [
    "$$\n",
    "\\lim_{k\\to\\infty}\\left(\\boldsymbol{v}_1 + \\sum_{i=2}^n \\frac{c_i}{c_1} \\left(\\frac{\\lambda_i}{\\lambda_1}\\right)^k \\boldsymbol{v}_i \\right) = \\boldsymbol{v}_1 \\,,\n",
    "$$"
   ]
  },
  {
   "cell_type": "markdown",
   "metadata": {},
   "source": [
    "puisque $\\left|\\frac{\\lambda_i}{\\lambda_1}\\right| < 1$.\n",
    "Par conséquent,"
   ]
  },
  {
   "cell_type": "markdown",
   "metadata": {},
   "source": [
    "$$\n",
    "\\lim_{k\\to\\infty}\\operatorname{sign}{(\\lambda_1)}^k \\boldsymbol{x}_k = \\lim_{k\\to\\infty} \\left(\\frac{\\lambda_1}{|\\lambda_1|}\\right)^k \\frac{A^k \\boldsymbol{x}_0}{\\Vert A^k \\boldsymbol{x}_0\\Vert} = \\operatorname{sign}{c_1} \\frac{\\boldsymbol{v}_1}{\\Vert\\boldsymbol{v}_1\\Vert} \\,.\n",
    "$$"
   ]
  },
  {
   "cell_type": "markdown",
   "metadata": {},
   "source": [
    "En choisissant $\\boldsymbol{x}_0$ aléatoirement, alors avec probabilité un $c_1\\neq0$ et donc la suite $(\\boldsymbol{x}_k)_ {k\\in\\mathbb{N}}$ converge à un signe près vers un vecteur propre normalisé associé à la valeur propre de plus grand module.\n",
    "\n",
    "**a)**\n",
    "Définir une fonction `puissance(A, x0, k)` qui retourne $\\boldsymbol{x}_k$. Avec cette fonction, déterminer le plus grand vecteur propre de la matrice:"
   ]
  },
  {
   "cell_type": "markdown",
   "metadata": {},
   "source": [
    "$$\n",
    "A = \\begin{pmatrix}0.5 & 0.5\\\\ \n",
    "0.2 & 0.8\n",
    "\\end{pmatrix} \\,.\n",
    "$$"
   ]
  },
  {
   "cell_type": "markdown",
   "metadata": {},
   "source": [
    "**Réponse:**\n",
    "Le plus grand vecteur propre est $\\pm(0.70710678, 0.70710678)$."
   ]
  },
  {
   "cell_type": "markdown",
   "metadata": {},
   "source": [
    "**b)**\n",
    "Déterminer la valeur propre associée au vecteur propre précédent.\n",
    "\n",
    "**Indication:**\n",
    "Si $\\boldsymbol{v}$ est un vecteur propre normalisé de $A$, alors la valeur propre associée est donnée par $\\lambda = A\\boldsymbol{v}\\cdot\\boldsymbol{v}$."
   ]
  },
  {
   "cell_type": "markdown",
   "metadata": {},
   "source": [
    "**c)**\n",
    "Écrire un programme permettant de calculer automatiquement la valeur propre de plus grand module et le vecteur propre associé d'une matrice carrée avec une certaine précision donnée."
   ]
  },
  {
   "cell_type": "markdown",
   "metadata": {},
   "source": [
    "**d)**\n",
    "Regarder la documentation de Numpy pour trouver les fonctions permettant de calculer les vecteurs propres et valeurs propres d'une matrice."
   ]
  },
  {
   "cell_type": "markdown",
   "metadata": {},
   "source": [
    "**e)**\n",
    "Comparer la rapidité du code précédent et des fonctions Numpy pour des matrices de tailles $n\\times n$ avec $n=10,100,1 000$.\n",
    "\n",
    "**Indication:**\n",
    "En prenant par exemple des matrices dont les coefficients sont générés aléatoirement dans l'intervalle $(0,1)$, le théorème de Perron-Frobenius assure l'existence d'une unique valeur propre de module maximal, et celle-ci est positive."
   ]
  },
  {
   "cell_type": "markdown",
   "metadata": {},
   "source": [
    "# Exercice 6.3: Groupes de permutations"
   ]
  },
  {
   "cell_type": "markdown",
   "metadata": {},
   "source": [
    "<div id=\"exer:algebre-permutations\"></div>\n",
    "\n",
    "Le but est d'étudier les groupes de permutations en développant des algorithmes pour les caractériser. Un groupe de permutations $G \\subset S_n$ est défini comme étant généré par un certain nombre de permutations: $G = \\langle g_1, g_2,\\dots,g_k \\rangle$, avec $g_i\\in S_n$ une permutation de l'ensemble $\\{1,2,\\dots,n\\}$. Une permutation"
   ]
  },
  {
   "cell_type": "markdown",
   "metadata": {},
   "source": [
    "$$\n",
    "g = \\begin{pmatrix}1 & 2 & 3 & 4\\\\ \n",
    "4 & 1 & 2 & 3\n",
    "\\end{pmatrix} \\,,\n",
    "$$"
   ]
  },
  {
   "cell_type": "markdown",
   "metadata": {},
   "source": [
    "peut être représentée en python par le tuple `g = (0, 4, 1, 2, 3)`. Le zéro est ajouté afin de se conformer avec l'indexation à partir de zéro de Python et ainsi de simplifier un peu les implémentations. Cela veut simplement dire que le sommet `0` va sur le sommet `0`. À noter que cet exercice se prête particulièrement bien à une implémentation orientée objet, et dans ce cas les questions peuvent être adaptées en conséquence.\n",
    "\n",
    "**a)**\n",
    "Écrire une fonction `product(g1,g2)` qui calcule le produit de deux permutations."
   ]
  },
  {
   "cell_type": "markdown",
   "metadata": {},
   "source": [
    "**b)**\n",
    "Écrire une fonction `inverse(g)` qui calcule l'inverse d'une permutation."
   ]
  },
  {
   "cell_type": "markdown",
   "metadata": {},
   "source": [
    "**c)**\n",
    "Écrire une fonction qui retourne la décomposition d'une permutation sous forme de cycles représentés par une liste du tuples."
   ]
  },
  {
   "cell_type": "markdown",
   "metadata": {},
   "source": [
    "**d)**\n",
    "Écrire une fonction qui retourne la permutation correspondant à une liste de cycles, c'est-à-dire qui fait l'inverse de la fonction précédente."
   ]
  },
  {
   "cell_type": "markdown",
   "metadata": {},
   "source": [
    "**e)**\n",
    "<span style=\"color:red\">!</span> En python un groupe $G = \\langle g_1,g_2,\\dots,g_k \\rangle$ engendré par une famille de permutations, peut être représenté par une liste de permutations `G = [g1,g2,...,gk]`. Écrire une fonction `orbit(G,x)` qui retourne l'orbite d'un point $x\\in\\{1,2,\\dots,n\\}$:"
   ]
  },
  {
   "cell_type": "markdown",
   "metadata": {},
   "source": [
    "$$\n",
    "O_x = Gx = \\{gx, g \\in G\\} \\,.\n",
    "$$"
   ]
  },
  {
   "cell_type": "markdown",
   "metadata": {},
   "source": [
    "**Indication:**\n",
    "Ne pas calculer l'ensemble des éléments du groupe, cela fait une liste beaucoup trop longue. Construire la liste $(X^0,X^1,\\dots,X^N)$ d'ensembles disjoints définie récursivement par $X^0 = \\{x\\}$ et $X^n$ comme l'ensemble des éléments nouveaux de la forme $g_i y$ avec $1 \\leq i \\leq k$ et $y\\in X^{n-1}$:"
   ]
  },
  {
   "cell_type": "markdown",
   "metadata": {},
   "source": [
    "$$\n",
    "X^{n}=\\left(\\bigcup_{i=1}^{k}g_{i}X^{n-1}\\right)\\setminus\\left(\\bigcup_{i=1}^{n-1}X^{i}\\right) \\,.\n",
    "$$"
   ]
  },
  {
   "cell_type": "markdown",
   "metadata": {},
   "source": [
    "\n",
    "**f)**\n",
    "<span style=\"color:red\">!!</span> Définir une fonction `stabilizer(G,x)` qui retourne le stabilisateur d'un point $x\\in\\{1,2,\\dots,n\\}$:"
   ]
  },
  {
   "cell_type": "markdown",
   "metadata": {},
   "source": [
    "$$\n",
    "G_x = \\{g \\in G : g x = x \\} \\,,\n",
    "$$"
   ]
  },
  {
   "cell_type": "markdown",
   "metadata": {},
   "source": [
    "sous la forme d'un ensemble de générateurs.\n",
    "\n",
    "**Indication:**\n",
    "Utiliser le théorème ou lemme de Schreier."
   ]
  }
 ],
 "metadata": {
  "kernelspec": {
   "display_name": "Python 3",
   "language": "python",
   "name": "python3"
  },
  "language_info": {
   "codemirror_mode": {
    "name": "ipython",
    "version": 3
   },
   "file_extension": ".py",
   "mimetype": "text/x-python",
   "name": "python",
   "nbconvert_exporter": "python",
   "pygments_lexer": "ipython3",
   "version": "3.8.5"
  }
 },
 "nbformat": 4,
 "nbformat_minor": 4
}